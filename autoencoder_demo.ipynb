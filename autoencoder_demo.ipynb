{
 "cells": [
  {
   "cell_type": "code",
   "execution_count": null,
   "metadata": {},
   "outputs": [],
   "source": [
    "import torch\n",
    "from torch.utils.data import DataLoader\n",
    "from torchvision import datasets\n",
    "from torchvision.transforms import ToTensor\n",
    "\n",
    "import matplotlib.pyplot as plt"
   ]
  },
  {
   "cell_type": "code",
   "execution_count": null,
   "metadata": {},
   "outputs": [],
   "source": [
    "device = \"cuda\" if torch.cuda.is_available() else \"cpu\"\n",
    "\n",
    "training_data = datasets.FashionMNIST(\n",
    "    root=\"data\",\n",
    "    train=True,\n",
    "    download=True,\n",
    "    transform=ToTensor(),\n",
    ")\n",
    "\n",
    "test_data = datasets.FashionMNIST(\n",
    "    root=\"data\",\n",
    "    train=False,\n",
    "    download=True,\n",
    "    transform=ToTensor(),\n",
    ")\n",
    "\n",
    "class WrappedDataLoader:\n",
    "    def __init__(self, dataloader, func):\n",
    "        self.dataloader = dataloader\n",
    "        self.func = func\n",
    "\n",
    "    def __len__(self):\n",
    "        return len(self.dataloader)\n",
    "    \n",
    "    def __iter__(self):\n",
    "        for b in self.dataloader:\n",
    "            yield(self.func(*b))\n",
    "\n",
    "def get_data(training_data, test_data, batch_size):\n",
    "    return (DataLoader(training_data, batch_size=batch_size), DataLoader(test_data, batch_size=batch_size, shuffle=True))\n",
    "\n",
    "def gpu_preprocess(x, y):\n",
    "    # x is input, y is labels - sending to GPU\n",
    "    return (x.view(-1, 1, 28, 28).to(device), y.to(device))\n"
   ]
  },
  {
   "cell_type": "code",
   "execution_count": null,
   "metadata": {},
   "outputs": [],
   "source": [
    "labels_map = {\n",
    "    0: \"T-Shirt\",\n",
    "    1: \"Trouser\",\n",
    "    2: \"Pullover\",\n",
    "    3: \"Dress\",\n",
    "    4: \"Coat\",\n",
    "    5: \"Sandal\",\n",
    "    6: \"Shirt\",\n",
    "    7: \"Sneaker\",\n",
    "    8: \"Bag\",\n",
    "    9: \"Ankle Boot\",\n",
    "}\n",
    "\n",
    "figure = plt.figure(figsize=(8, 8))\n",
    "cols, rows = 3, 3\n",
    "for i in range(1, cols * rows + 1):\n",
    "    sample_idx = torch.randint(len(training_data), size=(1,)).item()\n",
    "    img, label = training_data[sample_idx]\n",
    "    figure.add_subplot(rows, cols, i)\n",
    "    plt.title(labels_map[label])\n",
    "    plt.axis(\"off\")\n",
    "    plt.imshow(img.squeeze(), cmap=\"gray\")\n",
    "plt.show()"
   ]
  },
  {
   "cell_type": "markdown",
   "metadata": {},
   "source": [
    "### LOADING AUTOENCODER MODEL"
   ]
  },
  {
   "cell_type": "code",
   "execution_count": null,
   "metadata": {},
   "outputs": [],
   "source": [
    "from autoencoder import Autoencoder\n",
    "\n",
    "saved_ae_model = Autoencoder().to(device)\n",
    "saved_ae_model.load_state_dict(torch.load('AE.pth', weights_only=True))\n",
    "saved_ae_model.eval()"
   ]
  },
  {
   "cell_type": "code",
   "execution_count": null,
   "metadata": {},
   "outputs": [],
   "source": [
    "import random\n",
    "import time\n",
    "\n",
    "# picking random image to test from dataloader\n",
    "random.seed(time.time())\n",
    "sample_index = random.randint(0, len(test_data))\n",
    "\n",
    "img, label = test_data[sample_index]\n",
    "img = img.to(device)\n",
    "\n",
    "pred_img = []\n",
    "with torch.no_grad():\n",
    "    pred_img = saved_ae_model(img)\n",
    "    pred_img = torch.unflatten(pred_img, -1, (28, 28))\n",
    "\n",
    "\n",
    "figure = plt.figure(figsize=(8, 8))\n",
    "cols, rows = 2, 1\n",
    "\n",
    "figure.add_subplot(rows, cols, 1)\n",
    "plt.title(f\"True: {labels_map[label]}\")\n",
    "plt.axis(\"off\")\n",
    "plt.imshow(img.cpu().squeeze(), cmap=\"gray\")\n",
    "\n",
    "figure.add_subplot(rows, cols, 2)\n",
    "plt.title(f\"autoencoder: {labels_map[label]}\")\n",
    "plt.axis(\"off\")\n",
    "plt.imshow(pred_img.cpu().squeeze(), cmap=\"gray\")\n",
    "\n",
    "plt.show()"
   ]
  },
  {
   "cell_type": "code",
   "execution_count": null,
   "metadata": {},
   "outputs": [],
   "source": [
    "_, test_dataloader = get_data(training_data, test_data, batch_size=64)\n",
    "\n",
    "for i, (X, y) in enumerate(test_dataloader):\n",
    "    with torch.no_grad():\n",
    "        z = saved_ae_model.encoder(X.to(device))\n",
    "        z = z.to('cpu').numpy()\n",
    "\n",
    "    plt.scatter(z[:, 0], z[:, 1], c=y, cmap='tab10')\n",
    "\n",
    "    if i > 64:\n",
    "        plt.colorbar()\n",
    "        break\n",
    "\n",
    "plt.show()\n",
    "\n",
    "    "
   ]
  }
 ],
 "metadata": {
  "kernelspec": {
   "display_name": ".env",
   "language": "python",
   "name": "python3"
  },
  "language_info": {
   "codemirror_mode": {
    "name": "ipython",
    "version": 3
   },
   "file_extension": ".py",
   "mimetype": "text/x-python",
   "name": "python",
   "nbconvert_exporter": "python",
   "pygments_lexer": "ipython3",
   "version": "3.10.12"
  }
 },
 "nbformat": 4,
 "nbformat_minor": 2
}
